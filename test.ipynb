{
 "cells": [
  {
   "cell_type": "code",
   "execution_count": 2,
   "metadata": {},
   "outputs": [],
   "source": [
    "from tools import read, edit\n",
    "import os\n",
    "from collections import OrderedDict"
   ]
  },
  {
   "cell_type": "code",
   "execution_count": 3,
   "metadata": {},
   "outputs": [],
   "source": [
    "anki = read.readApkg(os.path.join('sample','Chinese.apkg'))"
   ]
  },
  {
   "cell_type": "code",
   "execution_count": 4,
   "metadata": {},
   "outputs": [
    {
     "data": {
      "text/plain": [
       "[{'content': OrderedDict([('English', 'Hello!'),\n",
       "               ('Pinyin', 'Nǐ hǎo!'),\n",
       "               ('Hanzi', '你好！'),\n",
       "               ('Audio', '[sound:tmp1cctcn.mp3]')]),\n",
       "  'model name': 'MarkAudio-787e4'}]"
      ]
     },
     "execution_count": 4,
     "metadata": {},
     "output_type": "execute_result"
    }
   ],
   "source": [
    "anki.findNotes('Pinyin','Nǐ hǎo!')"
   ]
  },
  {
   "cell_type": "code",
   "execution_count": 5,
   "metadata": {},
   "outputs": [
    {
     "data": {
      "text/plain": [
       "[{'content': OrderedDict([('English', 'Hello!'),\n",
       "               ('Pinyin', 'Nǐ hǎo!'),\n",
       "               ('Hanzi', '你好！'),\n",
       "               ('Audio', '[sound:tmp1cctcn.mp3]')]),\n",
       "  'deck name': 'SpoonFedChinese',\n",
       "  'model name': 'MarkAudio-787e4',\n",
       "  'template': 'Card 1'},\n",
       " {'content': OrderedDict([('English', 'Hello!'),\n",
       "               ('Pinyin', 'Nǐ hǎo!'),\n",
       "               ('Hanzi', '你好！'),\n",
       "               ('Audio', '[sound:tmp1cctcn.mp3]')]),\n",
       "  'deck name': 'SpoonFedChinese',\n",
       "  'model name': 'MarkAudio-787e4',\n",
       "  'template': 'Card 2'}]"
      ]
     },
     "execution_count": 5,
     "metadata": {},
     "output_type": "execute_result"
    }
   ],
   "source": [
    "anki.findCards('Pinyin','Nǐ hǎo!')"
   ]
  },
  {
   "cell_type": "code",
   "execution_count": 6,
   "metadata": {},
   "outputs": [],
   "source": [
    "anki.close()"
   ]
  },
  {
   "cell_type": "code",
   "execution_count": 7,
   "metadata": {},
   "outputs": [],
   "source": [
    "anki = edit.editApkg(os.path.join('sample','Chinese.apkg'))"
   ]
  },
  {
   "cell_type": "code",
   "execution_count": 9,
   "metadata": {},
   "outputs": [
    {
     "name": "stdout",
     "output_type": "stream",
     "text": [
      "{'name': 'MarkAudio-787e4', 'templates': ['Card 1', 'Card 2'], 'fields': ['English', 'Pinyin', 'Hanzi', 'Audio'], 'mid': '1377171239634'}\n",
      "{'name': 'MarkAudioaaaaaaa', 'templates': ['Card1'], 'fields': ['English', 'Pinyin', 'Hanzi', 'Audio'], 'mid': '1517916522812'}\n"
     ]
    }
   ],
   "source": [
    "humanNotes = [{'content': OrderedDict([('English', 'Hello!xxxxx'),\n",
    "               ('Pinyin', 'Nǐ hǎo!xxxxx'),\n",
    "               ('Hanzi', '你好！xxxxx'),\n",
    "               ('Audio', '[sound:xxxxx.mp3]')]),\n",
    "  'model name': 'MarkAudioaaaaaaa'}]\n",
    "anki.updateHumanNotes(humanNotes)"
   ]
  },
  {
   "cell_type": "code",
   "execution_count": 10,
   "metadata": {},
   "outputs": [
    {
     "name": "stdout",
     "output_type": "stream",
     "text": [
      "{'name': 'MarkAudio-787e4', 'templates': ['Card 1', 'Card 2'], 'fields': ['English', 'Pinyin', 'Hanzi', 'Audio'], 'mid': '1377171239634'}\n",
      "{'name': 'MarkAudioaaaaaaa', 'templates': ['Card1'], 'fields': ['English', 'Pinyin', 'Hanzi', 'Audio'], 'mid': '1517916522812'}\n",
      "{'name': 'MarkAudio', 'templates': ['Card M'], 'fields': ['English', 'Pinyin', 'Hanzi', 'Audio'], 'mid': '1517916690235'}\n",
      "{'name': 'MarkAudio-787e4', 'templates': ['Card 1', 'Card 2'], 'fields': ['English', 'Pinyin', 'Hanzi', 'Audio'], 'mid': '1377171239634'}\n",
      "{'name': 'MarkAudioaaaaaaa', 'templates': ['Card1'], 'fields': ['English', 'Pinyin', 'Hanzi', 'Audio'], 'mid': '1517916522812'}\n",
      "{'name': 'MarkAudio', 'templates': ['Card M'], 'fields': ['English', 'Pinyin', 'Hanzi', 'Audio'], 'mid': '1517916690235'}\n",
      "{'name': 'MarkAudio-X', 'templates': ['Card N'], 'fields': ['English', 'Pinyin', 'Hanzi', 'Audio'], 'mid': '1517916690237'}\n"
     ]
    }
   ],
   "source": [
    "humanCards = [{'content': OrderedDict([('English', 'Hello!'),\n",
    "               ('Pinyin', 'Nǐ hǎo!'),\n",
    "               ('Hanzi', '你好！'),\n",
    "               ('Audio', '[sound:tmp1cctcn.mp3]')]),\n",
    "  'deck name': 'SpoonFedChinese',\n",
    "  'model name': 'MarkAudio',\n",
    "  'template': 'Card M'},\n",
    " {'content': OrderedDict([('English', 'Hello!'),\n",
    "               ('Pinyin', 'Nǐ hǎo!'),\n",
    "               ('Hanzi', '你好！'),\n",
    "               ('Audio', '[sound:tmp1cctcn.mp3]')]),\n",
    "  'deck name': 'SpoonFedChinese',\n",
    "  'model name': 'MarkAudio-X',\n",
    "  'template': 'Card N'}]\n",
    "anki.updateHumanCards(humanCards)"
   ]
  },
  {
   "cell_type": "code",
   "execution_count": 11,
   "metadata": {},
   "outputs": [],
   "source": [
    "anki.save()"
   ]
  },
  {
   "cell_type": "code",
   "execution_count": 12,
   "metadata": {},
   "outputs": [
    {
     "ename": "AttributeError",
     "evalue": "'editApkg' object has no attribute 'close'",
     "traceback": [
      "\u001b[0;31m---------------------------------------------------------------------------\u001b[0m",
      "\u001b[0;31mAttributeError\u001b[0m                            Traceback (most recent call last)",
      "\u001b[0;32m<ipython-input-12-e725cf059505>\u001b[0m in \u001b[0;36m<module>\u001b[0;34m()\u001b[0m\n\u001b[0;32m----> 1\u001b[0;31m \u001b[0manki\u001b[0m\u001b[0;34m.\u001b[0m\u001b[0mclose\u001b[0m\u001b[0;34m(\u001b[0m\u001b[0;34m)\u001b[0m\u001b[0;34m\u001b[0m\u001b[0m\n\u001b[0m",
      "\u001b[0;31mAttributeError\u001b[0m: 'editApkg' object has no attribute 'close'"
     ],
     "output_type": "error"
    }
   ],
   "source": [
    "anki.close()"
   ]
  },
  {
   "cell_type": "code",
   "execution_count": 14,
   "metadata": {},
   "outputs": [],
   "source": [
    "from tools import const\n",
    "import shutil"
   ]
  },
  {
   "cell_type": "code",
   "execution_count": 15,
   "metadata": {},
   "outputs": [],
   "source": [
    "shutil.rmtree(const.temp_dir)"
   ]
  },
  {
   "cell_type": "code",
   "execution_count": null,
   "metadata": {},
   "outputs": [],
   "source": []
  }
 ],
 "metadata": {
  "kernelspec": {
   "display_name": "Python 3",
   "language": "python",
   "name": "python3"
  },
  "language_info": {
   "codemirror_mode": {
    "name": "ipython",
    "version": 3
   },
   "file_extension": ".py",
   "mimetype": "text/x-python",
   "name": "python",
   "nbconvert_exporter": "python",
   "pygments_lexer": "ipython3",
   "version": "3.5.2"
  }
 },
 "nbformat": 4,
 "nbformat_minor": 1
}
