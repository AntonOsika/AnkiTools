{
 "cells": [
  {
   "cell_type": "code",
   "execution_count": 1,
   "metadata": {},
   "outputs": [],
   "source": [
    "from AnkiTools.tools import read, edit"
   ]
  },
  {
   "cell_type": "code",
   "execution_count": 4,
   "metadata": {},
   "outputs": [],
   "source": [
    "anki = read.readApkg('testfile/Chinese.apkg')"
   ]
  },
  {
   "cell_type": "code",
   "execution_count": 6,
   "metadata": {},
   "outputs": [
    {
     "data": {
      "text/plain": [
       "{'content': ['Hello!', 'Nǐ hǎo!', '你好！', '[sound:tmp1cctcn.mp3]'],\n",
       " 'mid': '1377171239634',\n",
       " 'model': {'fields': ['English', 'Pinyin', 'Hanzi', 'Audio'],\n",
       "  'mid': '1377171239634',\n",
       "  'name': 'SpoonFed',\n",
       "  'templates': [{'afmt': '<font style=\"font-family:SimSun;\">{{Hanzi}}</font><br>\\n{{Pinyin}}<br>\\n{{English}}<br>\\n{{Audio}}',\n",
       "    'bafmt': '',\n",
       "    'bqfmt': '',\n",
       "    'did': None,\n",
       "    'name': 'CE',\n",
       "    'ord': 0,\n",
       "    'qfmt': '<font style=\"font-family:SimSun;\">{{Hanzi}}</font><br>\\n[sound:silence.mp3]\\n{{Audio}}'},\n",
       "   {'afmt': '{{English}}<br>\\n{{Pinyin}}<br>\\n<font style=\"font-family:SimSun;\">{{Hanzi}}</font><br>\\n{{Audio}}',\n",
       "    'bafmt': '',\n",
       "    'bqfmt': '',\n",
       "    'did': None,\n",
       "    'name': 'EC',\n",
       "    'ord': 1,\n",
       "    'qfmt': '{{English}}'}]},\n",
       " 'nid': '1419644212689',\n",
       " 'tags': ['']}"
      ]
     },
     "execution_count": 6,
     "metadata": {},
     "output_type": "execute_result"
    }
   ],
   "source": [
    "anki.notes['1419644212689']"
   ]
  },
  {
   "cell_type": "code",
   "execution_count": 8,
   "metadata": {},
   "outputs": [
    {
     "data": {
      "text/plain": [
       "{'cid': '1419644220831',\n",
       " 'deck': {'did': '1518099616462',\n",
       "  'name': 'Chinese::sentence::CE:: 1-10 Pleasant::Level  1'},\n",
       " 'did': '1518099616462',\n",
       " 'nid': '1419644212689',\n",
       " 'note': {'content': ['Hello!', 'Nǐ hǎo!', '你好！', '[sound:tmp1cctcn.mp3]'],\n",
       "  'mid': '1377171239634',\n",
       "  'model': {'fields': ['English', 'Pinyin', 'Hanzi', 'Audio'],\n",
       "   'mid': '1377171239634',\n",
       "   'name': 'SpoonFed',\n",
       "   'templates': [{'afmt': '<font style=\"font-family:SimSun;\">{{Hanzi}}</font><br>\\n{{Pinyin}}<br>\\n{{English}}<br>\\n{{Audio}}',\n",
       "     'bafmt': '',\n",
       "     'bqfmt': '',\n",
       "     'did': None,\n",
       "     'name': 'CE',\n",
       "     'ord': 0,\n",
       "     'qfmt': '<font style=\"font-family:SimSun;\">{{Hanzi}}</font><br>\\n[sound:silence.mp3]\\n{{Audio}}'},\n",
       "    {'afmt': '{{English}}<br>\\n{{Pinyin}}<br>\\n<font style=\"font-family:SimSun;\">{{Hanzi}}</font><br>\\n{{Audio}}',\n",
       "     'bafmt': '',\n",
       "     'bqfmt': '',\n",
       "     'did': None,\n",
       "     'name': 'EC',\n",
       "     'ord': 1,\n",
       "     'qfmt': '{{English}}'}]},\n",
       "  'nid': '1419644212689',\n",
       "  'tags': ['']},\n",
       " 'ord': 0}"
      ]
     },
     "execution_count": 8,
     "metadata": {},
     "output_type": "execute_result"
    }
   ],
   "source": [
    "anki.cards['1419644220831']"
   ]
  },
  {
   "cell_type": "code",
   "execution_count": 9,
   "metadata": {},
   "outputs": [
    {
     "ename": "FileNotFoundError",
     "evalue": "[Errno 2] No such file or directory: 'temp'",
     "output_type": "error",
     "traceback": [
      "\u001b[0;31m---------------------------------------------------------------------------\u001b[0m",
      "\u001b[0;31mFileNotFoundError\u001b[0m                         Traceback (most recent call last)",
      "\u001b[0;32m<ipython-input-9-e3f4a5053b79>\u001b[0m in \u001b[0;36m<module>\u001b[0;34m()\u001b[0m\n\u001b[0;32m----> 1\u001b[0;31m \u001b[0manki\u001b[0m\u001b[0;34m.\u001b[0m\u001b[0mclose\u001b[0m\u001b[0;34m(\u001b[0m\u001b[0;34m)\u001b[0m\u001b[0;34m\u001b[0m\u001b[0m\n\u001b[0m",
      "\u001b[0;32m/Users/patarapolw/PycharmProjects/AnkiTools/AnkiTools/tools/read.py\u001b[0m in \u001b[0;36mclose\u001b[0;34m(self)\u001b[0m\n\u001b[1;32m     89\u001b[0m \u001b[0;34m\u001b[0m\u001b[0m\n\u001b[1;32m     90\u001b[0m     \u001b[0;32mdef\u001b[0m \u001b[0mclose\u001b[0m\u001b[0;34m(\u001b[0m\u001b[0mself\u001b[0m\u001b[0;34m)\u001b[0m\u001b[0;34m:\u001b[0m\u001b[0;34m\u001b[0m\u001b[0m\n\u001b[0;32m---> 91\u001b[0;31m         \u001b[0mshutil\u001b[0m\u001b[0;34m.\u001b[0m\u001b[0mrmtree\u001b[0m\u001b[0;34m(\u001b[0m\u001b[0mconst\u001b[0m\u001b[0;34m.\u001b[0m\u001b[0mtemp_dir\u001b[0m\u001b[0;34m)\u001b[0m\u001b[0;34m\u001b[0m\u001b[0m\n\u001b[0m\u001b[1;32m     92\u001b[0m \u001b[0;34m\u001b[0m\u001b[0m\n",
      "\u001b[0;32m/Library/Frameworks/Python.framework/Versions/3.6/lib/python3.6/shutil.py\u001b[0m in \u001b[0;36mrmtree\u001b[0;34m(path, ignore_errors, onerror)\u001b[0m\n\u001b[1;32m    492\u001b[0m             \u001b[0mos\u001b[0m\u001b[0;34m.\u001b[0m\u001b[0mclose\u001b[0m\u001b[0;34m(\u001b[0m\u001b[0mfd\u001b[0m\u001b[0;34m)\u001b[0m\u001b[0;34m\u001b[0m\u001b[0m\n\u001b[1;32m    493\u001b[0m     \u001b[0;32melse\u001b[0m\u001b[0;34m:\u001b[0m\u001b[0;34m\u001b[0m\u001b[0m\n\u001b[0;32m--> 494\u001b[0;31m         \u001b[0;32mreturn\u001b[0m \u001b[0m_rmtree_unsafe\u001b[0m\u001b[0;34m(\u001b[0m\u001b[0mpath\u001b[0m\u001b[0;34m,\u001b[0m \u001b[0monerror\u001b[0m\u001b[0;34m)\u001b[0m\u001b[0;34m\u001b[0m\u001b[0m\n\u001b[0m\u001b[1;32m    495\u001b[0m \u001b[0;34m\u001b[0m\u001b[0m\n\u001b[1;32m    496\u001b[0m \u001b[0;31m# Allow introspection of whether or not the hardening against symlink\u001b[0m\u001b[0;34m\u001b[0m\u001b[0;34m\u001b[0m\u001b[0m\n",
      "\u001b[0;32m/Library/Frameworks/Python.framework/Versions/3.6/lib/python3.6/shutil.py\u001b[0m in \u001b[0;36m_rmtree_unsafe\u001b[0;34m(path, onerror)\u001b[0m\n\u001b[1;32m    374\u001b[0m         \u001b[0mnames\u001b[0m \u001b[0;34m=\u001b[0m \u001b[0mos\u001b[0m\u001b[0;34m.\u001b[0m\u001b[0mlistdir\u001b[0m\u001b[0;34m(\u001b[0m\u001b[0mpath\u001b[0m\u001b[0;34m)\u001b[0m\u001b[0;34m\u001b[0m\u001b[0m\n\u001b[1;32m    375\u001b[0m     \u001b[0;32mexcept\u001b[0m \u001b[0mOSError\u001b[0m\u001b[0;34m:\u001b[0m\u001b[0;34m\u001b[0m\u001b[0m\n\u001b[0;32m--> 376\u001b[0;31m         \u001b[0monerror\u001b[0m\u001b[0;34m(\u001b[0m\u001b[0mos\u001b[0m\u001b[0;34m.\u001b[0m\u001b[0mlistdir\u001b[0m\u001b[0;34m,\u001b[0m \u001b[0mpath\u001b[0m\u001b[0;34m,\u001b[0m \u001b[0msys\u001b[0m\u001b[0;34m.\u001b[0m\u001b[0mexc_info\u001b[0m\u001b[0;34m(\u001b[0m\u001b[0;34m)\u001b[0m\u001b[0;34m)\u001b[0m\u001b[0;34m\u001b[0m\u001b[0m\n\u001b[0m\u001b[1;32m    377\u001b[0m     \u001b[0;32mfor\u001b[0m \u001b[0mname\u001b[0m \u001b[0;32min\u001b[0m \u001b[0mnames\u001b[0m\u001b[0;34m:\u001b[0m\u001b[0;34m\u001b[0m\u001b[0m\n\u001b[1;32m    378\u001b[0m         \u001b[0mfullname\u001b[0m \u001b[0;34m=\u001b[0m \u001b[0mos\u001b[0m\u001b[0;34m.\u001b[0m\u001b[0mpath\u001b[0m\u001b[0;34m.\u001b[0m\u001b[0mjoin\u001b[0m\u001b[0;34m(\u001b[0m\u001b[0mpath\u001b[0m\u001b[0;34m,\u001b[0m \u001b[0mname\u001b[0m\u001b[0;34m)\u001b[0m\u001b[0;34m\u001b[0m\u001b[0m\n",
      "\u001b[0;32m/Library/Frameworks/Python.framework/Versions/3.6/lib/python3.6/shutil.py\u001b[0m in \u001b[0;36m_rmtree_unsafe\u001b[0;34m(path, onerror)\u001b[0m\n\u001b[1;32m    372\u001b[0m     \u001b[0mnames\u001b[0m \u001b[0;34m=\u001b[0m \u001b[0;34m[\u001b[0m\u001b[0;34m]\u001b[0m\u001b[0;34m\u001b[0m\u001b[0m\n\u001b[1;32m    373\u001b[0m     \u001b[0;32mtry\u001b[0m\u001b[0;34m:\u001b[0m\u001b[0;34m\u001b[0m\u001b[0m\n\u001b[0;32m--> 374\u001b[0;31m         \u001b[0mnames\u001b[0m \u001b[0;34m=\u001b[0m \u001b[0mos\u001b[0m\u001b[0;34m.\u001b[0m\u001b[0mlistdir\u001b[0m\u001b[0;34m(\u001b[0m\u001b[0mpath\u001b[0m\u001b[0;34m)\u001b[0m\u001b[0;34m\u001b[0m\u001b[0m\n\u001b[0m\u001b[1;32m    375\u001b[0m     \u001b[0;32mexcept\u001b[0m \u001b[0mOSError\u001b[0m\u001b[0;34m:\u001b[0m\u001b[0;34m\u001b[0m\u001b[0m\n\u001b[1;32m    376\u001b[0m         \u001b[0monerror\u001b[0m\u001b[0;34m(\u001b[0m\u001b[0mos\u001b[0m\u001b[0;34m.\u001b[0m\u001b[0mlistdir\u001b[0m\u001b[0;34m,\u001b[0m \u001b[0mpath\u001b[0m\u001b[0;34m,\u001b[0m \u001b[0msys\u001b[0m\u001b[0;34m.\u001b[0m\u001b[0mexc_info\u001b[0m\u001b[0;34m(\u001b[0m\u001b[0;34m)\u001b[0m\u001b[0;34m)\u001b[0m\u001b[0;34m\u001b[0m\u001b[0m\n",
      "\u001b[0;31mFileNotFoundError\u001b[0m: [Errno 2] No such file or directory: 'temp'"
     ]
    }
   ],
   "source": [
    "anki.close()"
   ]
  },
  {
   "cell_type": "code",
   "execution_count": 26,
   "metadata": {},
   "outputs": [],
   "source": [
    "anki = edit.editApkg(os.path.join('apkg','Chinese.apkg'))"
   ]
  },
  {
   "cell_type": "code",
   "execution_count": 27,
   "metadata": {},
   "outputs": [
    {
     "name": "stdout",
     "output_type": "stream",
     "text": [
      "{'fields': ['frequency', 'Hanzi', 'Count', 'Percentile', 'Pinyin', 'English', 'Heisig', 'SpoonFed level', 'Frequency level', 'Dubbing', 'Variant', 'Kanji', 'Note'], 'mid': '1514177308904', 'templates': ['Writing', 'Meaning', 'Reading'], 'name': 'Chinese Hanzi frequency-ad793'}\n",
      "{'fields': ['Simplified', 'Traditional', 'Pinyin', 'English', 'Classifier', 'Taiwan Pinyin', 'Words With Same Pinyin', 'Oldtag', 'Frequency level', 'SpoonFed level', 'Note'], 'mid': '1514177533845', 'templates': ['English', 'Simplified', 'Traditional'], 'name': 'Chinese vocab-19a6c'}\n",
      "{'fields': ['中文', 'Pinyin', 'English', 'Notes', 'Example Type', 'Article Title', 'Grammar Construct', 'Source URL', 'Oldtag', 'Grammar level', 'Hanzi level', 'All Hanzi level'], 'mid': '1496733135172', 'templates': ['Translation'], 'name': 'Chinese grammar-049b7'}\n",
      "{'fields': ['English', 'Pinyin', 'Hanzi', 'Audio'], 'mid': '1517988082618', 'templates': ['Card1'], 'name': 'MarkAudioaaaaaaa'}\n"
     ]
    }
   ],
   "source": [
    "humanNotes = [{'content': OrderedDict([('English', 'Hello!xxxxx'),\n",
    "               ('Pinyin', 'Nǐ hǎo!xxxxx'),\n",
    "               ('Hanzi', '你好！xxxxx'),\n",
    "               ('Audio', '[sound:xxxxx.mp3]')]),\n",
    "  'model name': 'MarkAudioaaaaaaa'}]\n",
    "anki.updateHumanNotes(humanNotes)"
   ]
  },
  {
   "cell_type": "code",
   "execution_count": 28,
   "metadata": {},
   "outputs": [
    {
     "name": "stdout",
     "output_type": "stream",
     "text": [
      "{'fields': ['frequency', 'Hanzi', 'Count', 'Percentile', 'Pinyin', 'English', 'Heisig', 'SpoonFed level', 'Frequency level', 'Dubbing', 'Variant', 'Kanji', 'Note'], 'mid': '1514177308904', 'templates': ['Writing', 'Meaning', 'Reading'], 'name': 'Chinese Hanzi frequency-ad793'}\n",
      "{'fields': ['Simplified', 'Traditional', 'Pinyin', 'English', 'Classifier', 'Taiwan Pinyin', 'Words With Same Pinyin', 'Oldtag', 'Frequency level', 'SpoonFed level', 'Note'], 'mid': '1514177533845', 'templates': ['English', 'Simplified', 'Traditional'], 'name': 'Chinese vocab-19a6c'}\n",
      "{'fields': ['中文', 'Pinyin', 'English', 'Notes', 'Example Type', 'Article Title', 'Grammar Construct', 'Source URL', 'Oldtag', 'Grammar level', 'Hanzi level', 'All Hanzi level'], 'mid': '1496733135172', 'templates': ['Translation'], 'name': 'Chinese grammar-049b7'}\n",
      "{'fields': ['English', 'Pinyin', 'Hanzi', 'Audio'], 'mid': '1517988082618', 'templates': ['Card1'], 'name': 'MarkAudioaaaaaaa'}\n",
      "{'fields': ['English', 'Pinyin', 'Hanzi', 'Audio'], 'mid': '1517988083179', 'templates': ['Card M'], 'name': 'MarkAudio'}\n",
      "{'fields': ['frequency', 'Hanzi', 'Count', 'Percentile', 'Pinyin', 'English', 'Heisig', 'SpoonFed level', 'Frequency level', 'Dubbing', 'Variant', 'Kanji', 'Note'], 'mid': '1514177308904', 'templates': ['Writing', 'Meaning', 'Reading'], 'name': 'Chinese Hanzi frequency-ad793'}\n",
      "{'fields': ['Simplified', 'Traditional', 'Pinyin', 'English', 'Classifier', 'Taiwan Pinyin', 'Words With Same Pinyin', 'Oldtag', 'Frequency level', 'SpoonFed level', 'Note'], 'mid': '1514177533845', 'templates': ['English', 'Simplified', 'Traditional'], 'name': 'Chinese vocab-19a6c'}\n",
      "{'fields': ['中文', 'Pinyin', 'English', 'Notes', 'Example Type', 'Article Title', 'Grammar Construct', 'Source URL', 'Oldtag', 'Grammar level', 'Hanzi level', 'All Hanzi level'], 'mid': '1496733135172', 'templates': ['Translation'], 'name': 'Chinese grammar-049b7'}\n",
      "{'fields': ['English', 'Pinyin', 'Hanzi', 'Audio'], 'mid': '1517988082618', 'templates': ['Card1'], 'name': 'MarkAudioaaaaaaa'}\n",
      "{'fields': ['English', 'Pinyin', 'Hanzi', 'Audio'], 'mid': '1517988083179', 'templates': ['Card M'], 'name': 'MarkAudio'}\n",
      "{'fields': ['English', 'Pinyin', 'Hanzi', 'Audio'], 'mid': '1517988083183', 'templates': ['Card N'], 'name': 'MarkAudio-X'}\n"
     ]
    }
   ],
   "source": [
    "humanCards = [{'content': OrderedDict([('English', 'Hello!'),\n",
    "               ('Pinyin', 'Nǐ hǎo!'),\n",
    "               ('Hanzi', '你好！'),\n",
    "               ('Audio', '[sound:tmp1cctcn.mp3]')]),\n",
    "  'deck name': 'SpoonFedChinese',\n",
    "  'model name': 'MarkAudio',\n",
    "  'template': 'Card M'},\n",
    " {'content': OrderedDict([('English', 'Hello!'),\n",
    "               ('Pinyin', 'Nǐ hǎo!'),\n",
    "               ('Hanzi', '你好！'),\n",
    "               ('Audio', '[sound:tmp1cctcn.mp3]')]),\n",
    "  'deck name': 'SpoonFedChinese',\n",
    "  'model name': 'MarkAudio-X',\n",
    "  'template': 'Card N'}]\n",
    "anki.updateHumanCards(humanCards)"
   ]
  },
  {
   "cell_type": "code",
   "execution_count": 29,
   "metadata": {},
   "outputs": [],
   "source": [
    "anki.save()"
   ]
  },
  {
   "cell_type": "code",
   "execution_count": 30,
   "metadata": {},
   "outputs": [
    {
     "ename": "FileNotFoundError",
     "evalue": "[Errno 2] No such file or directory: 'temp/collection.anki2'",
     "output_type": "error",
     "traceback": [
      "\u001b[0;31m---------------------------------------------------------------------------\u001b[0m",
      "\u001b[0;31mFileNotFoundError\u001b[0m                         Traceback (most recent call last)",
      "\u001b[0;32m<ipython-input-30-e725cf059505>\u001b[0m in \u001b[0;36m<module>\u001b[0;34m()\u001b[0m\n\u001b[0;32m----> 1\u001b[0;31m \u001b[0manki\u001b[0m\u001b[0;34m.\u001b[0m\u001b[0mclose\u001b[0m\u001b[0;34m(\u001b[0m\u001b[0;34m)\u001b[0m\u001b[0;34m\u001b[0m\u001b[0m\n\u001b[0m",
      "\u001b[0;32m~/PycharmProjects/AnkiTools/AnkiTools/tools/edit.py\u001b[0m in \u001b[0;36mclose\u001b[0;34m(self)\u001b[0m\n\u001b[1;32m    170\u001b[0m             \u001b[0;32mfor\u001b[0m \u001b[0mroot\u001b[0m\u001b[0;34m,\u001b[0m \u001b[0mdirs\u001b[0m\u001b[0;34m,\u001b[0m \u001b[0mfiles\u001b[0m \u001b[0;32min\u001b[0m \u001b[0mos\u001b[0m\u001b[0;34m.\u001b[0m\u001b[0mwalk\u001b[0m\u001b[0;34m(\u001b[0m\u001b[0mconst\u001b[0m\u001b[0;34m.\u001b[0m\u001b[0mtemp_dir\u001b[0m\u001b[0;34m)\u001b[0m\u001b[0;34m:\u001b[0m\u001b[0;34m\u001b[0m\u001b[0m\n\u001b[1;32m    171\u001b[0m                 \u001b[0;32mfor\u001b[0m \u001b[0mfilename\u001b[0m \u001b[0;32min\u001b[0m \u001b[0mfiles\u001b[0m\u001b[0;34m:\u001b[0m\u001b[0;34m\u001b[0m\u001b[0m\n\u001b[0;32m--> 172\u001b[0;31m                     \u001b[0mzp\u001b[0m\u001b[0;34m.\u001b[0m\u001b[0mwrite\u001b[0m\u001b[0;34m(\u001b[0m\u001b[0mos\u001b[0m\u001b[0;34m.\u001b[0m\u001b[0mpath\u001b[0m\u001b[0;34m.\u001b[0m\u001b[0mjoin\u001b[0m\u001b[0;34m(\u001b[0m\u001b[0mroot\u001b[0m\u001b[0;34m,\u001b[0m \u001b[0mfilename\u001b[0m\u001b[0;34m)\u001b[0m\u001b[0;34m)\u001b[0m\u001b[0;34m\u001b[0m\u001b[0m\n\u001b[0m",
      "\u001b[0;32m~/PycharmProjects/AnkiTools/AnkiTools/tools/edit.py\u001b[0m in \u001b[0;36mclose\u001b[0;34m(self)\u001b[0m\n\u001b[1;32m     25\u001b[0m \u001b[0;34m\u001b[0m\u001b[0m\n\u001b[1;32m     26\u001b[0m     \u001b[0;32mdef\u001b[0m \u001b[0mupdateModels\u001b[0m\u001b[0;34m(\u001b[0m\u001b[0mself\u001b[0m\u001b[0;34m,\u001b[0m \u001b[0mmodels\u001b[0m\u001b[0;34m)\u001b[0m\u001b[0;34m:\u001b[0m\u001b[0;34m\u001b[0m\u001b[0m\n\u001b[0;32m---> 27\u001b[0;31m         \u001b[0;32mwith\u001b[0m \u001b[0msqlite3\u001b[0m\u001b[0;34m.\u001b[0m\u001b[0mconnect\u001b[0m\u001b[0;34m(\u001b[0m\u001b[0mself\u001b[0m\u001b[0;34m.\u001b[0m\u001b[0manki2\u001b[0m\u001b[0;34m)\u001b[0m \u001b[0;32mas\u001b[0m \u001b[0mconn\u001b[0m\u001b[0;34m:\u001b[0m\u001b[0;34m\u001b[0m\u001b[0m\n\u001b[0m\u001b[1;32m     28\u001b[0m             \u001b[0;32mfor\u001b[0m \u001b[0mmodel\u001b[0m \u001b[0;32min\u001b[0m \u001b[0mmodels\u001b[0m\u001b[0;34m:\u001b[0m\u001b[0;34m\u001b[0m\u001b[0m\n\u001b[1;32m     29\u001b[0m                 \u001b[0mcursor\u001b[0m \u001b[0;34m=\u001b[0m \u001b[0mconn\u001b[0m\u001b[0;34m.\u001b[0m\u001b[0mexecute\u001b[0m\u001b[0;34m(\u001b[0m\u001b[0;34m'SELECT models FROM col'\u001b[0m\u001b[0;34m)\u001b[0m\u001b[0;34m\u001b[0m\u001b[0m\n",
      "\u001b[0;32m~/PycharmProjects/AnkiTools/AnkiTools/tools/edit.py\u001b[0m in \u001b[0;36msave\u001b[0;34m(self, output)\u001b[0m\n",
      "\u001b[0;32m/Library/Frameworks/Python.framework/Versions/3.5/lib/python3.5/zipfile.py\u001b[0m in \u001b[0;36m__init__\u001b[0;34m(self, file, mode, compression, allowZip64)\u001b[0m\n\u001b[1;32m   1007\u001b[0m             \u001b[0;32mwhile\u001b[0m \u001b[0;32mTrue\u001b[0m\u001b[0;34m:\u001b[0m\u001b[0;34m\u001b[0m\u001b[0m\n\u001b[1;32m   1008\u001b[0m                 \u001b[0;32mtry\u001b[0m\u001b[0;34m:\u001b[0m\u001b[0;34m\u001b[0m\u001b[0m\n\u001b[0;32m-> 1009\u001b[0;31m                     \u001b[0mself\u001b[0m\u001b[0;34m.\u001b[0m\u001b[0mfp\u001b[0m \u001b[0;34m=\u001b[0m \u001b[0mio\u001b[0m\u001b[0;34m.\u001b[0m\u001b[0mopen\u001b[0m\u001b[0;34m(\u001b[0m\u001b[0mfile\u001b[0m\u001b[0;34m,\u001b[0m \u001b[0mfilemode\u001b[0m\u001b[0;34m)\u001b[0m\u001b[0;34m\u001b[0m\u001b[0m\n\u001b[0m\u001b[1;32m   1010\u001b[0m                 \u001b[0;32mexcept\u001b[0m \u001b[0mOSError\u001b[0m\u001b[0;34m:\u001b[0m\u001b[0;34m\u001b[0m\u001b[0m\n\u001b[1;32m   1011\u001b[0m                     \u001b[0;32mif\u001b[0m \u001b[0mfilemode\u001b[0m \u001b[0;32min\u001b[0m \u001b[0mmodeDict\u001b[0m\u001b[0;34m:\u001b[0m\u001b[0;34m\u001b[0m\u001b[0m\n",
      "\u001b[0;31mFileNotFoundError\u001b[0m: [Errno 2] No such file or directory: 'temp/collection.anki2'"
     ]
    }
   ],
   "source": [
    "anki.close()"
   ]
  },
  {
   "cell_type": "code",
   "execution_count": null,
   "metadata": {},
   "outputs": [],
   "source": []
  }
 ],
 "metadata": {
  "kernelspec": {
   "display_name": "Python 3",
   "language": "python",
   "name": "python3"
  },
  "language_info": {
   "codemirror_mode": {
    "name": "ipython",
    "version": 3
   },
   "file_extension": ".py",
   "mimetype": "text/x-python",
   "name": "python",
   "nbconvert_exporter": "python",
   "pygments_lexer": "ipython3",
   "version": "3.6.4"
  }
 },
 "nbformat": 4,
 "nbformat_minor": 1
}
